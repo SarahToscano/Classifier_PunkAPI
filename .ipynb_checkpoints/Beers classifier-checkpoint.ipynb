{
 "cells": [
  {
   "cell_type": "code",
   "execution_count": 1,
   "metadata": {},
   "outputs": [],
   "source": [
    "import requests\n",
    "import pandas as pd\n",
    "from pandas.io.json import json_normalize\n",
    "from flatten_json import flatten"
   ]
  },
  {
   "cell_type": "markdown",
   "metadata": {},
   "source": [
    "# Creating the dataset and cleaned dataset\n",
    "The function _data_extraction_ get the one sample case, so to build a dataset it is necessary called the function _expand_dataset_ passing two cases and the number of requested samples."
   ]
  },
  {
   "cell_type": "code",
   "execution_count": 2,
   "metadata": {},
   "outputs": [],
   "source": [
    "url = 'https://api.punkapi.com/v2/beers/random'"
   ]
  },
  {
   "cell_type": "code",
   "execution_count": 3,
   "metadata": {},
   "outputs": [],
   "source": [
    "def data_extraction(url):\n",
    "    response_json = requests.get(url).json()\n",
    "    # json_normalize has limitations with multiple record paths\n",
    "    # thus, it was necessary apply the flatten.\n",
    "    dic_flattened = [flatten(d) for d in response_json]\n",
    "    df = pd.json_normalize(dic_flattened, sep=\"_\")\n",
    "    return df"
   ]
  },
  {
   "cell_type": "markdown",
   "metadata": {},
   "source": [
    "The dataset concatenation in _expand_dataset_is performed as follows: initially two arrays with dimension samples/2 are created and the api data are trasmnited to them. Then, these two arrays are then concatenated. This form was chosen, as it took less processing time."
   ]
  },
  {
   "cell_type": "code",
   "execution_count": 4,
   "metadata": {},
   "outputs": [],
   "source": [
    "def expand_dataset (partial_df_1, partial_df_2, samples):\n",
    "    #To optimize the time, the concat will be separeted in two parts: [0, samples/2] + [0, samples/2]\n",
    "    for i in range (0, int((samples-1)/2)):\n",
    "        df_1 = data_extraction(url)\n",
    "        partial_df_1  = pd.concat([partial_df_1, df_1], axis=0, ignore_index=False)\n",
    "        df_2 = data_extraction(url)\n",
    "        partial_df_2  = pd.concat([partial_df_2, df_2], axis=0, ignore_index=False)\n",
    "    partial_df_1  = pd.concat([partial_df_1, partial_df_2], axis=0, ignore_index=False)\n",
    "        \n",
    "    return partial_df_1\n"
   ]
  },
  {
   "cell_type": "code",
   "execution_count": 5,
   "metadata": {},
   "outputs": [],
   "source": [
    "partial_df_1 = data_extraction(url)\n",
    "partial_df_2 = data_extraction(url)"
   ]
  },
  {
   "cell_type": "code",
   "execution_count": 7,
   "metadata": {},
   "outputs": [],
   "source": [
    "##To refresh the dataset, please uncomment the line bellow:\n",
    "df = expand_dataset(partial_df_1, partial_df_2, 1200)\n",
    "\n",
    "##Wait three minutes to get the concat of 400 samples"
   ]
  },
  {
   "cell_type": "markdown",
   "metadata": {},
   "source": [
    "The _cleaned_file_ function creates a csv file with the 'id', 'name', 'abv', 'ibu', 'target_fg', 'target_og', 'ebc', 'srm' and 'ph' dataset labels"
   ]
  },
  {
   "cell_type": "code",
   "execution_count": 8,
   "metadata": {},
   "outputs": [],
   "source": [
    "def cleaned_file (df): #Create a csv file with data cleaned\n",
    "    df_cleaned = df.loc[:, ['id', 'name', 'abv', 'ibu', 'target_fg', 'target_og', 'ebc', 'srm' ,'ph']]\n",
    "    df_cleaned.to_csv('cleaned_cp2.csv', encoding='utf-8', index=False)\n",
    "    return df_cleaned"
   ]
  },
  {
   "cell_type": "code",
   "execution_count": 9,
   "metadata": {},
   "outputs": [],
   "source": [
    "#To refresh the csv dataset, uncomment the line bellow:\n",
    "df_cleaned = cleaned_file(df)"
   ]
  },
  {
   "cell_type": "markdown",
   "metadata": {},
   "source": [
    "# Reading the csv dataset and pre-processing"
   ]
  },
  {
   "cell_type": "markdown",
   "metadata": {},
   "source": [
    "## Importing the dataset\n"
   ]
  },
  {
   "cell_type": "code",
   "execution_count": 10,
   "metadata": {},
   "outputs": [],
   "source": [
    "dataset = pd.read_csv('./cleaned_cp2.csv', delimiter=',', index_col=0)"
   ]
  },
  {
   "cell_type": "code",
   "execution_count": 11,
   "metadata": {},
   "outputs": [
    {
     "data": {
      "text/html": [
       "<div>\n",
       "<style scoped>\n",
       "    .dataframe tbody tr th:only-of-type {\n",
       "        vertical-align: middle;\n",
       "    }\n",
       "\n",
       "    .dataframe tbody tr th {\n",
       "        vertical-align: top;\n",
       "    }\n",
       "\n",
       "    .dataframe thead th {\n",
       "        text-align: right;\n",
       "    }\n",
       "</style>\n",
       "<table border=\"1\" class=\"dataframe\">\n",
       "  <thead>\n",
       "    <tr style=\"text-align: right;\">\n",
       "      <th></th>\n",
       "      <th>name</th>\n",
       "      <th>abv</th>\n",
       "      <th>ibu</th>\n",
       "      <th>target_fg</th>\n",
       "      <th>target_og</th>\n",
       "      <th>ebc</th>\n",
       "      <th>srm</th>\n",
       "      <th>ph</th>\n",
       "    </tr>\n",
       "    <tr>\n",
       "      <th>id</th>\n",
       "      <th></th>\n",
       "      <th></th>\n",
       "      <th></th>\n",
       "      <th></th>\n",
       "      <th></th>\n",
       "      <th></th>\n",
       "      <th></th>\n",
       "      <th></th>\n",
       "    </tr>\n",
       "  </thead>\n",
       "  <tbody>\n",
       "    <tr>\n",
       "      <th>183</th>\n",
       "      <td>Nuns With Guns</td>\n",
       "      <td>4.2</td>\n",
       "      <td>25.0</td>\n",
       "      <td>1012.0</td>\n",
       "      <td>1044.0</td>\n",
       "      <td>19.0</td>\n",
       "      <td>9.5</td>\n",
       "      <td>4.4</td>\n",
       "    </tr>\n",
       "    <tr>\n",
       "      <th>34</th>\n",
       "      <td>Bourbon Baby</td>\n",
       "      <td>5.8</td>\n",
       "      <td>35.0</td>\n",
       "      <td>1005.0</td>\n",
       "      <td>1049.0</td>\n",
       "      <td>44.0</td>\n",
       "      <td>22.0</td>\n",
       "      <td>4.4</td>\n",
       "    </tr>\n",
       "    <tr>\n",
       "      <th>321</th>\n",
       "      <td>Jinx Pale Ale</td>\n",
       "      <td>4.7</td>\n",
       "      <td>35.0</td>\n",
       "      <td>1008.0</td>\n",
       "      <td>1043.0</td>\n",
       "      <td>13.0</td>\n",
       "      <td>7.0</td>\n",
       "      <td>4.6</td>\n",
       "    </tr>\n",
       "    <tr>\n",
       "      <th>144</th>\n",
       "      <td>Tokyo*</td>\n",
       "      <td>16.2</td>\n",
       "      <td>85.0</td>\n",
       "      <td>1028.0</td>\n",
       "      <td>1157.0</td>\n",
       "      <td>250.0</td>\n",
       "      <td>127.0</td>\n",
       "      <td>4.4</td>\n",
       "    </tr>\n",
       "    <tr>\n",
       "      <th>83</th>\n",
       "      <td>Comet</td>\n",
       "      <td>7.2</td>\n",
       "      <td>70.0</td>\n",
       "      <td>1012.0</td>\n",
       "      <td>1067.0</td>\n",
       "      <td>30.0</td>\n",
       "      <td>15.0</td>\n",
       "      <td>4.4</td>\n",
       "    </tr>\n",
       "  </tbody>\n",
       "</table>\n",
       "</div>"
      ],
      "text/plain": [
       "               name   abv   ibu  target_fg  target_og    ebc    srm   ph\n",
       "id                                                                      \n",
       "183  Nuns With Guns   4.2  25.0     1012.0     1044.0   19.0    9.5  4.4\n",
       "34     Bourbon Baby   5.8  35.0     1005.0     1049.0   44.0   22.0  4.4\n",
       "321   Jinx Pale Ale   4.7  35.0     1008.0     1043.0   13.0    7.0  4.6\n",
       "144          Tokyo*  16.2  85.0     1028.0     1157.0  250.0  127.0  4.4\n",
       "83            Comet   7.2  70.0     1012.0     1067.0   30.0   15.0  4.4"
      ]
     },
     "execution_count": 11,
     "metadata": {},
     "output_type": "execute_result"
    }
   ],
   "source": [
    "dataset.head()"
   ]
  },
  {
   "cell_type": "code",
   "execution_count": 12,
   "metadata": {},
   "outputs": [
    {
     "data": {
      "text/plain": [
       "(1200, 8)"
      ]
     },
     "execution_count": 12,
     "metadata": {},
     "output_type": "execute_result"
    }
   ],
   "source": [
    "dataset.shape"
   ]
  },
  {
   "cell_type": "code",
   "execution_count": 13,
   "metadata": {},
   "outputs": [
    {
     "data": {
      "text/plain": [
       "#Mashtag 2013            4\n",
       "#Mashtag 2014            6\n",
       "#Mashtag 2015            3\n",
       "#Mashtag 2016            6\n",
       "10 Heads High            2\n",
       "                        ..\n",
       "Whisky Sour - B-Sides    3\n",
       "White Noise              4\n",
       "Zeitgeist                1\n",
       "Zephyr                   2\n",
       "Zipcode                  4\n",
       "Name: name, Length: 317, dtype: int64"
      ]
     },
     "execution_count": 13,
     "metadata": {},
     "output_type": "execute_result"
    }
   ],
   "source": [
    "#Verifing if the label 'name' is unique\n",
    "dataset[\"name\"].value_counts().sort_index()"
   ]
  },
  {
   "cell_type": "markdown",
   "metadata": {},
   "source": [
    "## Label encoding"
   ]
  },
  {
   "cell_type": "markdown",
   "metadata": {},
   "source": [
    "### Ordinal Encoder of 'name' label"
   ]
  },
  {
   "cell_type": "code",
   "execution_count": 14,
   "metadata": {},
   "outputs": [],
   "source": [
    "from sklearn.preprocessing import OrdinalEncoder\n",
    "ord_enc = OrdinalEncoder()\n",
    "dataset[\"name_code\"] = ord_enc.fit_transform(dataset[[\"name\"]])"
   ]
  },
  {
   "cell_type": "code",
   "execution_count": 15,
   "metadata": {},
   "outputs": [],
   "source": [
    "dataset = dataset.drop(['name'], axis=1)"
   ]
  },
  {
   "cell_type": "code",
   "execution_count": 16,
   "metadata": {},
   "outputs": [
    {
     "data": {
      "text/html": [
       "<div>\n",
       "<style scoped>\n",
       "    .dataframe tbody tr th:only-of-type {\n",
       "        vertical-align: middle;\n",
       "    }\n",
       "\n",
       "    .dataframe tbody tr th {\n",
       "        vertical-align: top;\n",
       "    }\n",
       "\n",
       "    .dataframe thead th {\n",
       "        text-align: right;\n",
       "    }\n",
       "</style>\n",
       "<table border=\"1\" class=\"dataframe\">\n",
       "  <thead>\n",
       "    <tr style=\"text-align: right;\">\n",
       "      <th></th>\n",
       "      <th>abv</th>\n",
       "      <th>ibu</th>\n",
       "      <th>target_fg</th>\n",
       "      <th>target_og</th>\n",
       "      <th>ebc</th>\n",
       "      <th>srm</th>\n",
       "      <th>ph</th>\n",
       "      <th>name_code</th>\n",
       "    </tr>\n",
       "    <tr>\n",
       "      <th>id</th>\n",
       "      <th></th>\n",
       "      <th></th>\n",
       "      <th></th>\n",
       "      <th></th>\n",
       "      <th></th>\n",
       "      <th></th>\n",
       "      <th></th>\n",
       "      <th></th>\n",
       "    </tr>\n",
       "  </thead>\n",
       "  <tbody>\n",
       "    <tr>\n",
       "      <th>183</th>\n",
       "      <td>4.2</td>\n",
       "      <td>25.0</td>\n",
       "      <td>1012.0</td>\n",
       "      <td>1044.0</td>\n",
       "      <td>19.0</td>\n",
       "      <td>9.5</td>\n",
       "      <td>4.4</td>\n",
       "      <td>215.0</td>\n",
       "    </tr>\n",
       "    <tr>\n",
       "      <th>34</th>\n",
       "      <td>5.8</td>\n",
       "      <td>35.0</td>\n",
       "      <td>1005.0</td>\n",
       "      <td>1049.0</td>\n",
       "      <td>44.0</td>\n",
       "      <td>22.0</td>\n",
       "      <td>4.4</td>\n",
       "      <td>76.0</td>\n",
       "    </tr>\n",
       "    <tr>\n",
       "      <th>321</th>\n",
       "      <td>4.7</td>\n",
       "      <td>35.0</td>\n",
       "      <td>1008.0</td>\n",
       "      <td>1043.0</td>\n",
       "      <td>13.0</td>\n",
       "      <td>7.0</td>\n",
       "      <td>4.6</td>\n",
       "      <td>179.0</td>\n",
       "    </tr>\n",
       "    <tr>\n",
       "      <th>144</th>\n",
       "      <td>16.2</td>\n",
       "      <td>85.0</td>\n",
       "      <td>1028.0</td>\n",
       "      <td>1157.0</td>\n",
       "      <td>250.0</td>\n",
       "      <td>127.0</td>\n",
       "      <td>4.4</td>\n",
       "      <td>299.0</td>\n",
       "    </tr>\n",
       "    <tr>\n",
       "      <th>83</th>\n",
       "      <td>7.2</td>\n",
       "      <td>70.0</td>\n",
       "      <td>1012.0</td>\n",
       "      <td>1067.0</td>\n",
       "      <td>30.0</td>\n",
       "      <td>15.0</td>\n",
       "      <td>4.4</td>\n",
       "      <td>97.0</td>\n",
       "    </tr>\n",
       "  </tbody>\n",
       "</table>\n",
       "</div>"
      ],
      "text/plain": [
       "      abv   ibu  target_fg  target_og    ebc    srm   ph  name_code\n",
       "id                                                                 \n",
       "183   4.2  25.0     1012.0     1044.0   19.0    9.5  4.4      215.0\n",
       "34    5.8  35.0     1005.0     1049.0   44.0   22.0  4.4       76.0\n",
       "321   4.7  35.0     1008.0     1043.0   13.0    7.0  4.6      179.0\n",
       "144  16.2  85.0     1028.0     1157.0  250.0  127.0  4.4      299.0\n",
       "83    7.2  70.0     1012.0     1067.0   30.0   15.0  4.4       97.0"
      ]
     },
     "execution_count": 16,
     "metadata": {},
     "output_type": "execute_result"
    }
   ],
   "source": [
    "dataset.head()"
   ]
  },
  {
   "cell_type": "markdown",
   "metadata": {},
   "source": [
    "### Checking for null data"
   ]
  },
  {
   "cell_type": "code",
   "execution_count": 17,
   "metadata": {},
   "outputs": [
    {
     "data": {
      "text/plain": [
       "abv           0\n",
       "ibu          21\n",
       "target_fg     3\n",
       "target_og     3\n",
       "ebc          18\n",
       "srm          18\n",
       "ph            5\n",
       "name_code     0\n",
       "dtype: int64"
      ]
     },
     "execution_count": 17,
     "metadata": {},
     "output_type": "execute_result"
    }
   ],
   "source": [
    "dataset.isnull().sum()"
   ]
  },
  {
   "cell_type": "code",
   "execution_count": 18,
   "metadata": {},
   "outputs": [
    {
     "data": {
      "text/plain": [
       "abv          0\n",
       "ibu          0\n",
       "target_fg    0\n",
       "target_og    0\n",
       "ebc          0\n",
       "srm          0\n",
       "ph           0\n",
       "name_code    0\n",
       "dtype: int64"
      ]
     },
     "execution_count": 18,
     "metadata": {},
     "output_type": "execute_result"
    }
   ],
   "source": [
    "dataset = dataset.dropna(how='any',axis=0) \n",
    "dataset.isnull().sum()"
   ]
  },
  {
   "cell_type": "code",
   "execution_count": 19,
   "metadata": {},
   "outputs": [
    {
     "data": {
      "text/plain": [
       "(1169, 8)"
      ]
     },
     "execution_count": 19,
     "metadata": {},
     "output_type": "execute_result"
    }
   ],
   "source": [
    "dataset.shape"
   ]
  },
  {
   "cell_type": "markdown",
   "metadata": {},
   "source": [
    "## Analysing the correlation"
   ]
  },
  {
   "cell_type": "code",
   "execution_count": 20,
   "metadata": {},
   "outputs": [
    {
     "data": {
      "text/html": [
       "<style  type=\"text/css\" >\n",
       "#T_00c6a_row0_col0,#T_00c6a_row1_col1,#T_00c6a_row2_col2,#T_00c6a_row3_col3,#T_00c6a_row4_col4,#T_00c6a_row4_col5,#T_00c6a_row5_col4,#T_00c6a_row5_col5,#T_00c6a_row6_col6,#T_00c6a_row7_col7{\n",
       "            background-color:  #ff00ff;\n",
       "            color:  #f1f1f1;\n",
       "        }#T_00c6a_row0_col1{\n",
       "            background-color:  #9b64ff;\n",
       "            color:  #000000;\n",
       "        }#T_00c6a_row0_col2{\n",
       "            background-color:  #629dff;\n",
       "            color:  #000000;\n",
       "        }#T_00c6a_row0_col3{\n",
       "            background-color:  #ba45ff;\n",
       "            color:  #000000;\n",
       "        }#T_00c6a_row0_col4,#T_00c6a_row0_col5{\n",
       "            background-color:  #7788ff;\n",
       "            color:  #000000;\n",
       "        }#T_00c6a_row0_col6,#T_00c6a_row7_col1{\n",
       "            background-color:  #16e9ff;\n",
       "            color:  #000000;\n",
       "        }#T_00c6a_row0_col7{\n",
       "            background-color:  #08f7ff;\n",
       "            color:  #000000;\n",
       "        }#T_00c6a_row1_col0{\n",
       "            background-color:  #a55aff;\n",
       "            color:  #000000;\n",
       "        }#T_00c6a_row1_col2{\n",
       "            background-color:  #2ad5ff;\n",
       "            color:  #000000;\n",
       "        }#T_00c6a_row1_col3{\n",
       "            background-color:  #55aaff;\n",
       "            color:  #000000;\n",
       "        }#T_00c6a_row1_col4,#T_00c6a_row1_col5{\n",
       "            background-color:  #2fd0ff;\n",
       "            color:  #000000;\n",
       "        }#T_00c6a_row1_col6,#T_00c6a_row6_col7{\n",
       "            background-color:  #11eeff;\n",
       "            color:  #000000;\n",
       "        }#T_00c6a_row1_col7{\n",
       "            background-color:  #34cbff;\n",
       "            color:  #000000;\n",
       "        }#T_00c6a_row2_col0{\n",
       "            background-color:  #5ca3ff;\n",
       "            color:  #000000;\n",
       "        }#T_00c6a_row2_col1{\n",
       "            background-color:  #0af5ff;\n",
       "            color:  #000000;\n",
       "        }#T_00c6a_row2_col3,#T_00c6a_row3_col2,#T_00c6a_row3_col7,#T_00c6a_row6_col1,#T_00c6a_row7_col0,#T_00c6a_row7_col3,#T_00c6a_row7_col4,#T_00c6a_row7_col5,#T_00c6a_row7_col6{\n",
       "            background-color:  #00ffff;\n",
       "            color:  #000000;\n",
       "        }#T_00c6a_row2_col4{\n",
       "            background-color:  #708fff;\n",
       "            color:  #000000;\n",
       "        }#T_00c6a_row2_col5{\n",
       "            background-color:  #6f90ff;\n",
       "            color:  #000000;\n",
       "        }#T_00c6a_row2_col6{\n",
       "            background-color:  #10efff;\n",
       "            color:  #000000;\n",
       "        }#T_00c6a_row2_col7,#T_00c6a_row5_col7,#T_00c6a_row7_col2{\n",
       "            background-color:  #0ef1ff;\n",
       "            color:  #000000;\n",
       "        }#T_00c6a_row3_col0{\n",
       "            background-color:  #b748ff;\n",
       "            color:  #000000;\n",
       "        }#T_00c6a_row3_col1{\n",
       "            background-color:  #3bc4ff;\n",
       "            color:  #000000;\n",
       "        }#T_00c6a_row3_col4,#T_00c6a_row3_col5{\n",
       "            background-color:  #7986ff;\n",
       "            color:  #000000;\n",
       "        }#T_00c6a_row3_col6{\n",
       "            background-color:  #1be4ff;\n",
       "            color:  #000000;\n",
       "        }#T_00c6a_row4_col0,#T_00c6a_row5_col0{\n",
       "            background-color:  #7a85ff;\n",
       "            color:  #000000;\n",
       "        }#T_00c6a_row4_col1{\n",
       "            background-color:  #1ce3ff;\n",
       "            color:  #000000;\n",
       "        }#T_00c6a_row4_col2,#T_00c6a_row5_col2{\n",
       "            background-color:  #7887ff;\n",
       "            color:  #000000;\n",
       "        }#T_00c6a_row4_col3,#T_00c6a_row5_col3{\n",
       "            background-color:  #807fff;\n",
       "            color:  #000000;\n",
       "        }#T_00c6a_row4_col6,#T_00c6a_row5_col6{\n",
       "            background-color:  #0cf3ff;\n",
       "            color:  #000000;\n",
       "        }#T_00c6a_row4_col7{\n",
       "            background-color:  #0df2ff;\n",
       "            color:  #000000;\n",
       "        }#T_00c6a_row5_col1{\n",
       "            background-color:  #1de2ff;\n",
       "            color:  #000000;\n",
       "        }#T_00c6a_row6_col0{\n",
       "            background-color:  #1ee1ff;\n",
       "            color:  #000000;\n",
       "        }#T_00c6a_row6_col2{\n",
       "            background-color:  #20dfff;\n",
       "            color:  #000000;\n",
       "        }#T_00c6a_row6_col3{\n",
       "            background-color:  #2bd4ff;\n",
       "            color:  #000000;\n",
       "        }#T_00c6a_row6_col4,#T_00c6a_row6_col5{\n",
       "            background-color:  #0ff0ff;\n",
       "            color:  #000000;\n",
       "        }</style><table id=\"T_00c6a_\" ><thead>    <tr>        <th class=\"blank level0\" ></th>        <th class=\"col_heading level0 col0\" >abv</th>        <th class=\"col_heading level0 col1\" >ibu</th>        <th class=\"col_heading level0 col2\" >target_fg</th>        <th class=\"col_heading level0 col3\" >target_og</th>        <th class=\"col_heading level0 col4\" >ebc</th>        <th class=\"col_heading level0 col5\" >srm</th>        <th class=\"col_heading level0 col6\" >ph</th>        <th class=\"col_heading level0 col7\" >name_code</th>    </tr></thead><tbody>\n",
       "                <tr>\n",
       "                        <th id=\"T_00c6a_level0_row0\" class=\"row_heading level0 row0\" >abv</th>\n",
       "                        <td id=\"T_00c6a_row0_col0\" class=\"data row0 col0\" >1.000000</td>\n",
       "                        <td id=\"T_00c6a_row0_col1\" class=\"data row0 col1\" >0.606440</td>\n",
       "                        <td id=\"T_00c6a_row0_col2\" class=\"data row0 col2\" >0.290680</td>\n",
       "                        <td id=\"T_00c6a_row0_col3\" class=\"data row0 col3\" >0.685980</td>\n",
       "                        <td id=\"T_00c6a_row0_col4\" class=\"data row0 col4\" >0.421265</td>\n",
       "                        <td id=\"T_00c6a_row0_col5\" class=\"data row0 col5\" >0.421733</td>\n",
       "                        <td id=\"T_00c6a_row0_col6\" class=\"data row0 col6\" >0.020763</td>\n",
       "                        <td id=\"T_00c6a_row0_col7\" class=\"data row0 col7\" >-0.109454</td>\n",
       "            </tr>\n",
       "            <tr>\n",
       "                        <th id=\"T_00c6a_level0_row1\" class=\"row_heading level0 row1\" >ibu</th>\n",
       "                        <td id=\"T_00c6a_row1_col0\" class=\"data row1 col0\" >0.606440</td>\n",
       "                        <td id=\"T_00c6a_row1_col1\" class=\"data row1 col1\" >1.000000</td>\n",
       "                        <td id=\"T_00c6a_row1_col2\" class=\"data row1 col2\" >0.041460</td>\n",
       "                        <td id=\"T_00c6a_row1_col3\" class=\"data row1 col3\" >0.232847</td>\n",
       "                        <td id=\"T_00c6a_row1_col4\" class=\"data row1 col4\" >0.114253</td>\n",
       "                        <td id=\"T_00c6a_row1_col5\" class=\"data row1 col5\" >0.115048</td>\n",
       "                        <td id=\"T_00c6a_row1_col6\" class=\"data row1 col6\" >0.001853</td>\n",
       "                        <td id=\"T_00c6a_row1_col7\" class=\"data row1 col7\" >0.088378</td>\n",
       "            </tr>\n",
       "            <tr>\n",
       "                        <th id=\"T_00c6a_level0_row2\" class=\"row_heading level0 row2\" >target_fg</th>\n",
       "                        <td id=\"T_00c6a_row2_col0\" class=\"data row2 col0\" >0.290680</td>\n",
       "                        <td id=\"T_00c6a_row2_col1\" class=\"data row2 col1\" >0.041460</td>\n",
       "                        <td id=\"T_00c6a_row2_col2\" class=\"data row2 col2\" >1.000000</td>\n",
       "                        <td id=\"T_00c6a_row2_col3\" class=\"data row2 col3\" >-0.149985</td>\n",
       "                        <td id=\"T_00c6a_row2_col4\" class=\"data row2 col4\" >0.389561</td>\n",
       "                        <td id=\"T_00c6a_row2_col5\" class=\"data row2 col5\" >0.389160</td>\n",
       "                        <td id=\"T_00c6a_row2_col6\" class=\"data row2 col6\" >-0.003016</td>\n",
       "                        <td id=\"T_00c6a_row2_col7\" class=\"data row2 col7\" >-0.084031</td>\n",
       "            </tr>\n",
       "            <tr>\n",
       "                        <th id=\"T_00c6a_level0_row3\" class=\"row_heading level0 row3\" >target_og</th>\n",
       "                        <td id=\"T_00c6a_row3_col0\" class=\"data row3 col0\" >0.685980</td>\n",
       "                        <td id=\"T_00c6a_row3_col1\" class=\"data row3 col1\" >0.232847</td>\n",
       "                        <td id=\"T_00c6a_row3_col2\" class=\"data row3 col2\" >-0.149985</td>\n",
       "                        <td id=\"T_00c6a_row3_col3\" class=\"data row3 col3\" >1.000000</td>\n",
       "                        <td id=\"T_00c6a_row3_col4\" class=\"data row3 col4\" >0.428637</td>\n",
       "                        <td id=\"T_00c6a_row3_col5\" class=\"data row3 col5\" >0.428911</td>\n",
       "                        <td id=\"T_00c6a_row3_col6\" class=\"data row3 col6\" >0.044485</td>\n",
       "                        <td id=\"T_00c6a_row3_col7\" class=\"data row3 col7\" >-0.149142</td>\n",
       "            </tr>\n",
       "            <tr>\n",
       "                        <th id=\"T_00c6a_level0_row4\" class=\"row_heading level0 row4\" >ebc</th>\n",
       "                        <td id=\"T_00c6a_row4_col0\" class=\"data row4 col0\" >0.421265</td>\n",
       "                        <td id=\"T_00c6a_row4_col1\" class=\"data row4 col1\" >0.114253</td>\n",
       "                        <td id=\"T_00c6a_row4_col2\" class=\"data row4 col2\" >0.389561</td>\n",
       "                        <td id=\"T_00c6a_row4_col3\" class=\"data row4 col3\" >0.428637</td>\n",
       "                        <td id=\"T_00c6a_row4_col4\" class=\"data row4 col4\" >1.000000</td>\n",
       "                        <td id=\"T_00c6a_row4_col5\" class=\"data row4 col5\" >0.999669</td>\n",
       "                        <td id=\"T_00c6a_row4_col6\" class=\"data row4 col6\" >-0.020905</td>\n",
       "                        <td id=\"T_00c6a_row4_col7\" class=\"data row4 col7\" >-0.087708</td>\n",
       "            </tr>\n",
       "            <tr>\n",
       "                        <th id=\"T_00c6a_level0_row5\" class=\"row_heading level0 row5\" >srm</th>\n",
       "                        <td id=\"T_00c6a_row5_col0\" class=\"data row5 col0\" >0.421733</td>\n",
       "                        <td id=\"T_00c6a_row5_col1\" class=\"data row5 col1\" >0.115048</td>\n",
       "                        <td id=\"T_00c6a_row5_col2\" class=\"data row5 col2\" >0.389160</td>\n",
       "                        <td id=\"T_00c6a_row5_col3\" class=\"data row5 col3\" >0.428911</td>\n",
       "                        <td id=\"T_00c6a_row5_col4\" class=\"data row5 col4\" >0.999669</td>\n",
       "                        <td id=\"T_00c6a_row5_col5\" class=\"data row5 col5\" >1.000000</td>\n",
       "                        <td id=\"T_00c6a_row5_col6\" class=\"data row5 col6\" >-0.020751</td>\n",
       "                        <td id=\"T_00c6a_row5_col7\" class=\"data row5 col7\" >-0.084889</td>\n",
       "            </tr>\n",
       "            <tr>\n",
       "                        <th id=\"T_00c6a_level0_row6\" class=\"row_heading level0 row6\" >ph</th>\n",
       "                        <td id=\"T_00c6a_row6_col0\" class=\"data row6 col0\" >0.020763</td>\n",
       "                        <td id=\"T_00c6a_row6_col1\" class=\"data row6 col1\" >0.001853</td>\n",
       "                        <td id=\"T_00c6a_row6_col2\" class=\"data row6 col2\" >-0.003016</td>\n",
       "                        <td id=\"T_00c6a_row6_col3\" class=\"data row6 col3\" >0.044485</td>\n",
       "                        <td id=\"T_00c6a_row6_col4\" class=\"data row6 col4\" >-0.020905</td>\n",
       "                        <td id=\"T_00c6a_row6_col5\" class=\"data row6 col5\" >-0.020751</td>\n",
       "                        <td id=\"T_00c6a_row6_col6\" class=\"data row6 col6\" >1.000000</td>\n",
       "                        <td id=\"T_00c6a_row6_col7\" class=\"data row6 col7\" >-0.072745</td>\n",
       "            </tr>\n",
       "            <tr>\n",
       "                        <th id=\"T_00c6a_level0_row7\" class=\"row_heading level0 row7\" >name_code</th>\n",
       "                        <td id=\"T_00c6a_row7_col0\" class=\"data row7 col0\" >-0.109454</td>\n",
       "                        <td id=\"T_00c6a_row7_col1\" class=\"data row7 col1\" >0.088378</td>\n",
       "                        <td id=\"T_00c6a_row7_col2\" class=\"data row7 col2\" >-0.084031</td>\n",
       "                        <td id=\"T_00c6a_row7_col3\" class=\"data row7 col3\" >-0.149142</td>\n",
       "                        <td id=\"T_00c6a_row7_col4\" class=\"data row7 col4\" >-0.087708</td>\n",
       "                        <td id=\"T_00c6a_row7_col5\" class=\"data row7 col5\" >-0.084889</td>\n",
       "                        <td id=\"T_00c6a_row7_col6\" class=\"data row7 col6\" >-0.072745</td>\n",
       "                        <td id=\"T_00c6a_row7_col7\" class=\"data row7 col7\" >1.000000</td>\n",
       "            </tr>\n",
       "    </tbody></table>"
      ],
      "text/plain": [
       "<pandas.io.formats.style.Styler at 0x26c027d9ac8>"
      ]
     },
     "execution_count": 20,
     "metadata": {},
     "output_type": "execute_result"
    }
   ],
   "source": [
    "corr = dataset.corr()\n",
    "corr.style.background_gradient(cmap='cool')"
   ]
  },
  {
   "cell_type": "markdown",
   "metadata": {},
   "source": [
    "The correlation between the _srm_ and _ebc_ labels are strongly high, thus the _ebc_ label must be removed. Because it has more outliers than the other."
   ]
  },
  {
   "cell_type": "code",
   "execution_count": 21,
   "metadata": {},
   "outputs": [
    {
     "data": {
      "text/html": [
       "<div>\n",
       "<style scoped>\n",
       "    .dataframe tbody tr th:only-of-type {\n",
       "        vertical-align: middle;\n",
       "    }\n",
       "\n",
       "    .dataframe tbody tr th {\n",
       "        vertical-align: top;\n",
       "    }\n",
       "\n",
       "    .dataframe thead th {\n",
       "        text-align: right;\n",
       "    }\n",
       "</style>\n",
       "<table border=\"1\" class=\"dataframe\">\n",
       "  <thead>\n",
       "    <tr style=\"text-align: right;\">\n",
       "      <th></th>\n",
       "      <th>abv</th>\n",
       "      <th>ibu</th>\n",
       "      <th>target_fg</th>\n",
       "      <th>target_og</th>\n",
       "      <th>ebc</th>\n",
       "      <th>srm</th>\n",
       "      <th>ph</th>\n",
       "      <th>name_code</th>\n",
       "    </tr>\n",
       "    <tr>\n",
       "      <th>id</th>\n",
       "      <th></th>\n",
       "      <th></th>\n",
       "      <th></th>\n",
       "      <th></th>\n",
       "      <th></th>\n",
       "      <th></th>\n",
       "      <th></th>\n",
       "      <th></th>\n",
       "    </tr>\n",
       "  </thead>\n",
       "  <tbody>\n",
       "    <tr>\n",
       "      <th>183</th>\n",
       "      <td>4.2</td>\n",
       "      <td>25.0</td>\n",
       "      <td>1012.0</td>\n",
       "      <td>1044.0</td>\n",
       "      <td>19.0</td>\n",
       "      <td>9.5</td>\n",
       "      <td>4.4</td>\n",
       "      <td>215.0</td>\n",
       "    </tr>\n",
       "    <tr>\n",
       "      <th>34</th>\n",
       "      <td>5.8</td>\n",
       "      <td>35.0</td>\n",
       "      <td>1005.0</td>\n",
       "      <td>1049.0</td>\n",
       "      <td>44.0</td>\n",
       "      <td>22.0</td>\n",
       "      <td>4.4</td>\n",
       "      <td>76.0</td>\n",
       "    </tr>\n",
       "    <tr>\n",
       "      <th>321</th>\n",
       "      <td>4.7</td>\n",
       "      <td>35.0</td>\n",
       "      <td>1008.0</td>\n",
       "      <td>1043.0</td>\n",
       "      <td>13.0</td>\n",
       "      <td>7.0</td>\n",
       "      <td>4.6</td>\n",
       "      <td>179.0</td>\n",
       "    </tr>\n",
       "    <tr>\n",
       "      <th>144</th>\n",
       "      <td>16.2</td>\n",
       "      <td>85.0</td>\n",
       "      <td>1028.0</td>\n",
       "      <td>1157.0</td>\n",
       "      <td>250.0</td>\n",
       "      <td>127.0</td>\n",
       "      <td>4.4</td>\n",
       "      <td>299.0</td>\n",
       "    </tr>\n",
       "    <tr>\n",
       "      <th>83</th>\n",
       "      <td>7.2</td>\n",
       "      <td>70.0</td>\n",
       "      <td>1012.0</td>\n",
       "      <td>1067.0</td>\n",
       "      <td>30.0</td>\n",
       "      <td>15.0</td>\n",
       "      <td>4.4</td>\n",
       "      <td>97.0</td>\n",
       "    </tr>\n",
       "  </tbody>\n",
       "</table>\n",
       "</div>"
      ],
      "text/plain": [
       "      abv   ibu  target_fg  target_og    ebc    srm   ph  name_code\n",
       "id                                                                 \n",
       "183   4.2  25.0     1012.0     1044.0   19.0    9.5  4.4      215.0\n",
       "34    5.8  35.0     1005.0     1049.0   44.0   22.0  4.4       76.0\n",
       "321   4.7  35.0     1008.0     1043.0   13.0    7.0  4.6      179.0\n",
       "144  16.2  85.0     1028.0     1157.0  250.0  127.0  4.4      299.0\n",
       "83    7.2  70.0     1012.0     1067.0   30.0   15.0  4.4       97.0"
      ]
     },
     "execution_count": 21,
     "metadata": {},
     "output_type": "execute_result"
    }
   ],
   "source": [
    "#dataset = dataset.drop(['ebc'], axis=1)\n",
    "dataset.head()"
   ]
  },
  {
   "cell_type": "markdown",
   "metadata": {},
   "source": [
    "## Boxplot analysis and outlier treatment\n",
    "It is noticed the presence of many outliers in some labels"
   ]
  },
  {
   "cell_type": "code",
   "execution_count": 22,
   "metadata": {},
   "outputs": [
    {
     "data": {
      "text/plain": [
       "Text(0.5, 1.0, 'Outliers of non-normalized database')"
      ]
     },
     "execution_count": 22,
     "metadata": {},
     "output_type": "execute_result"
    },
    {
     "data": {
      "image/png": "[encoded data removed]",
      "text/plain": [
       "<Figure size 504x432 with 1 Axes>"
      ]
     },
     "metadata": {
      "needs_background": "light"
     },
     "output_type": "display_data"
    }
   ],
   "source": [
    "import matplotlib.pyplot as plt\n",
    "\n",
    "dataset.boxplot(grid=True, figsize= (7,6))\n",
    "plt.title('Outliers of non-normalized database', fontsize=14)"
   ]
  },
  {
   "cell_type": "markdown",
   "metadata": {},
   "source": [
    "#### Data normalization\n",
    "Because the outliers' discrepancy when compared to the median data, it was decided to use the Scaler"
   ]
  },
  {
   "cell_type": "code",
   "execution_count": 23,
   "metadata": {},
   "outputs": [],
   "source": [
    "from sklearn.preprocessing import RobustScaler, StandardScaler\n",
    "#! pip install sklearn_pandas\n",
    "from sklearn_pandas import DataFrameMapper\n",
    "\n",
    "column_tuples = [\n",
    "    (['name_code'], None),\n",
    "    (['ibu'], None),\n",
    "    (['abv'], StandardScaler()),\n",
    "    (['target_fg'], StandardScaler()),\n",
    "    (['target_og'], StandardScaler()),\n",
    "    (['srm'], RobustScaler()),\n",
    "    (['ph'], StandardScaler())\n",
    "]\n",
    "\n",
    "mapper = DataFrameMapper(column_tuples, df_out=True)\n",
    "dataset = mapper.fit_transform(dataset)\n"
   ]
  },
  {
   "cell_type": "code",
   "execution_count": 24,
   "metadata": {},
   "outputs": [
    {
     "data": {
      "text/plain": [
       "Text(0.5, 1.0, 'Outliers of normalized database')"
      ]
     },
     "execution_count": 24,
     "metadata": {},
     "output_type": "execute_result"
    },
    {
     "data": {
      "image/png": "[encoded data removed]",
      "text/plain": [
       "<Figure size 504x432 with 1 Axes>"
      ]
     },
     "metadata": {
      "needs_background": "light"
     },
     "output_type": "display_data"
    }
   ],
   "source": [
    "import matplotlib.pyplot as plt\n",
    "\n",
    "dataset.boxplot(grid=True, figsize= (7,6))\n",
    "plt.title('Outliers of normalized database', fontsize=14)"
   ]
  },
  {
   "cell_type": "code",
   "execution_count": 25,
   "metadata": {},
   "outputs": [],
   "source": [
    "dataset['ibu_bin'] = ord_enc.fit_transform(dataset[[\"ibu\"]])"
   ]
  },
  {
   "cell_type": "markdown",
   "metadata": {},
   "source": [
    "### Splitting the dataset into input (x) and output (y) data\n",
    "In this division the independent variables are saved in x and the dependent in y."
   ]
  },
  {
   "cell_type": "markdown",
   "metadata": {},
   "source": [
    "### Output"
   ]
  },
  {
   "cell_type": "code",
   "execution_count": 26,
   "metadata": {},
   "outputs": [
    {
     "data": {
      "text/plain": [
       "(1169, 51)"
      ]
     },
     "execution_count": 26,
     "metadata": {},
     "output_type": "execute_result"
    }
   ],
   "source": [
    "from sklearn import preprocessing\n",
    "lb = preprocessing.LabelBinarizer()\n",
    "y = lb.fit_transform(dataset[\"ibu_bin\"])\n",
    "y.shape"
   ]
  },
  {
   "cell_type": "code",
   "execution_count": 27,
   "metadata": {},
   "outputs": [
    {
     "data": {
      "text/plain": [
       "array([[0, 0, 0, ..., 0, 0, 0],\n",
       "       [0, 0, 0, ..., 0, 0, 0],\n",
       "       [0, 0, 0, ..., 0, 0, 0],\n",
       "       ...,\n",
       "       [0, 0, 0, ..., 0, 0, 0],\n",
       "       [0, 0, 0, ..., 0, 0, 0],\n",
       "       [0, 0, 0, ..., 0, 0, 0]])"
      ]
     },
     "execution_count": 27,
     "metadata": {},
     "output_type": "execute_result"
    }
   ],
   "source": [
    "y"
   ]
  },
  {
   "cell_type": "code",
   "execution_count": 28,
   "metadata": {},
   "outputs": [
    {
     "data": {
      "text/plain": [
       "51"
      ]
     },
     "execution_count": 28,
     "metadata": {},
     "output_type": "execute_result"
    }
   ],
   "source": [
    "data_row, output_labels = y.shape\n",
    "output_labels"
   ]
  },
  {
   "cell_type": "markdown",
   "metadata": {},
   "source": [
    "### Input"
   ]
  },
  {
   "cell_type": "code",
   "execution_count": 29,
   "metadata": {},
   "outputs": [
    {
     "data": {
      "text/plain": [
       "Index(['name_code', 'ibu', 'abv', 'target_fg', 'target_og', 'srm', 'ph',\n",
       "       'ibu_bin'],\n",
       "      dtype='object')"
      ]
     },
     "execution_count": 29,
     "metadata": {},
     "output_type": "execute_result"
    }
   ],
   "source": [
    "dataset.columns"
   ]
  },
  {
   "cell_type": "code",
   "execution_count": 30,
   "metadata": {},
   "outputs": [],
   "source": [
    "x = dataset.iloc[:, [0,2,3,4,6,5]].values"
   ]
  },
  {
   "cell_type": "markdown",
   "metadata": {},
   "source": [
    "## Splitting the dataset in training and test "
   ]
  },
  {
   "cell_type": "code",
   "execution_count": 31,
   "metadata": {},
   "outputs": [],
   "source": [
    "from sklearn.model_selection import train_test_split\n",
    "X_train, X_test, y_train, y_test = train_test_split(x, y, test_size = 0.2, random_state = 0)"
   ]
  },
  {
   "cell_type": "markdown",
   "metadata": {},
   "source": [
    "## ➡️ Algorithm: Decision Tree"
   ]
  },
  {
   "cell_type": "code",
   "execution_count": 32,
   "metadata": {},
   "outputs": [],
   "source": [
    "from sklearn.tree import DecisionTreeClassifier"
   ]
  },
  {
   "cell_type": "code",
   "execution_count": 33,
   "metadata": {},
   "outputs": [],
   "source": [
    "SEED=0"
   ]
  },
  {
   "cell_type": "code",
   "execution_count": 34,
   "metadata": {},
   "outputs": [],
   "source": [
    "clf = DecisionTreeClassifier(random_state = SEED)\n",
    "clf_orig = DecisionTreeClassifier(random_state = SEED)"
   ]
  },
  {
   "cell_type": "code",
   "execution_count": 35,
   "metadata": {},
   "outputs": [],
   "source": [
    "clf = clf.fit(X_train,y_train)"
   ]
  },
  {
   "cell_type": "markdown",
   "metadata": {},
   "source": [
    "## Predição dos resultados e métricas do modelo"
   ]
  },
  {
   "cell_type": "code",
   "execution_count": 36,
   "metadata": {},
   "outputs": [],
   "source": [
    "arvore_prediction = clf.predict(X_test)\n"
   ]
  },
  {
   "cell_type": "markdown",
   "metadata": {},
   "source": [
    "### Acurácia"
   ]
  },
  {
   "cell_type": "code",
   "execution_count": 37,
   "metadata": {},
   "outputs": [
    {
     "data": {
      "text/plain": [
       "0.9700854700854701"
      ]
     },
     "execution_count": 37,
     "metadata": {},
     "output_type": "execute_result"
    }
   ],
   "source": [
    "from sklearn.metrics import confusion_matrix, accuracy_score, classification_report\n",
    "acc= accuracy_score(y_test, arvore_prediction)\n",
    "acc"
   ]
  },
  {
   "cell_type": "markdown",
   "metadata": {},
   "source": [
    "### Matriz de Confusão"
   ]
  },
  {
   "cell_type": "code",
   "execution_count": 38,
   "metadata": {},
   "outputs": [
    {
     "data": {
      "text/plain": [
       "array([[2, 0, 0, ..., 0, 0, 0],\n",
       "       [0, 5, 0, ..., 0, 0, 0],\n",
       "       [0, 0, 1, ..., 0, 0, 0],\n",
       "       ...,\n",
       "       [0, 0, 0, ..., 5, 0, 0],\n",
       "       [0, 0, 0, ..., 0, 4, 0],\n",
       "       [0, 0, 0, ..., 0, 0, 2]], dtype=int64)"
      ]
     },
     "execution_count": 38,
     "metadata": {},
     "output_type": "execute_result"
    }
   ],
   "source": [
    "cm = confusion_matrix(y_test.argmax(axis=1), arvore_prediction.argmax(axis=1))\n",
    "cm"
   ]
  },
  {
   "cell_type": "code",
   "execution_count": 39,
   "metadata": {},
   "outputs": [
    {
     "name": "stdout",
     "output_type": "stream",
     "text": [
      "              precision    recall  f1-score   support\n",
      "\n",
      "           0       1.00      1.00      1.00         2\n",
      "           1       0.00      0.00      0.00         0\n",
      "           2       1.00      1.00      1.00         5\n",
      "           3       0.00      0.00      0.00         0\n",
      "           4       0.00      0.00      0.00         0\n",
      "           5       1.00      1.00      1.00         1\n",
      "           6       1.00      1.00      1.00         1\n",
      "           7       0.00      0.00      0.00         0\n",
      "           8       1.00      1.00      1.00         8\n",
      "           9       0.00      0.00      0.00         0\n",
      "          10       0.00      0.00      0.00         0\n",
      "          11       1.00      1.00      1.00         4\n",
      "          12       0.00      0.00      0.00         0\n",
      "          13       0.00      0.00      0.00         0\n",
      "          14       1.00      0.83      0.91        12\n",
      "          15       1.00      1.00      1.00         1\n",
      "          16       0.00      0.00      0.00         0\n",
      "          17       0.00      0.00      0.00         0\n",
      "          18       1.00      1.00      1.00        15\n",
      "          19       0.00      0.00      0.00         0\n",
      "          20       1.00      1.00      1.00         5\n",
      "          21       0.33      1.00      0.50         1\n",
      "          22       1.00      0.83      0.91        12\n",
      "          23       1.00      1.00      1.00         1\n",
      "          24       1.00      1.00      1.00         2\n",
      "          25       1.00      1.00      1.00        10\n",
      "          26       0.00      0.00      0.00         0\n",
      "          27       0.93      1.00      0.96        27\n",
      "          28       1.00      1.00      1.00         1\n",
      "          29       1.00      1.00      1.00        14\n",
      "          30       1.00      1.00      1.00         1\n",
      "          31       1.00      1.00      1.00         7\n",
      "          32       1.00      1.00      1.00         8\n",
      "          33       1.00      1.00      1.00         2\n",
      "          34       0.00      0.00      0.00         0\n",
      "          35       1.00      0.91      0.95        33\n",
      "          36       1.00      1.00      1.00         3\n",
      "          37       0.00      0.00      0.00         0\n",
      "          38       0.80      1.00      0.89        12\n",
      "          39       1.00      1.00      1.00        10\n",
      "          40       1.00      1.00      1.00         2\n",
      "          41       1.00      1.00      1.00        18\n",
      "          42       1.00      1.00      1.00         2\n",
      "          43       0.00      0.00      0.00         0\n",
      "          44       1.00      1.00      1.00         1\n",
      "          45       1.00      1.00      1.00         2\n",
      "          46       0.00      0.00      0.00         0\n",
      "          47       1.00      1.00      1.00         5\n",
      "          48       1.00      1.00      1.00         4\n",
      "          49       0.00      0.00      0.00         0\n",
      "          50       1.00      1.00      1.00         2\n",
      "\n",
      "   micro avg       0.97      0.97      0.97       234\n",
      "   macro avg       0.65      0.66      0.65       234\n",
      "weighted avg       0.98      0.97      0.97       234\n",
      " samples avg       0.97      0.97      0.97       234\n",
      "\n"
     ]
    },
    {
     "name": "stderr",
     "output_type": "stream",
     "text": [
      "C:\\ProgramData\\Anaconda3\\lib\\site-packages\\sklearn\\metrics\\_classification.py:1245: UndefinedMetricWarning: Precision and F-score are ill-defined and being set to 0.0 in labels with no predicted samples. Use `zero_division` parameter to control this behavior.\n",
      "  _warn_prf(average, modifier, msg_start, len(result))\n",
      "C:\\ProgramData\\Anaconda3\\lib\\site-packages\\sklearn\\metrics\\_classification.py:1245: UndefinedMetricWarning: Recall and F-score are ill-defined and being set to 0.0 in labels with no true samples. Use `zero_division` parameter to control this behavior.\n",
      "  _warn_prf(average, modifier, msg_start, len(result))\n"
     ]
    }
   ],
   "source": [
    "print(classification_report(y_test, arvore_prediction))"
   ]
  },
  {
   "cell_type": "code",
   "execution_count": null,
   "metadata": {},
   "outputs": [],
   "source": []
  },
  {
   "cell_type": "code",
   "execution_count": null,
   "metadata": {},
   "outputs": [],
   "source": []
  },
  {
   "cell_type": "code",
   "execution_count": null,
   "metadata": {},
   "outputs": [],
   "source": []
  },
  {
   "cell_type": "code",
   "execution_count": null,
   "metadata": {},
   "outputs": [],
   "source": []
  },
  {
   "cell_type": "code",
   "execution_count": null,
   "metadata": {},
   "outputs": [],
   "source": []
  }
 ],
 "metadata": {
  "kernelspec": {
   "display_name": "Python 3",
   "language": "python",
   "name": "python3"
  },
  "language_info": {
   "codemirror_mode": {
    "name": "ipython",
    "version": 3
   },
   "file_extension": ".py",
   "mimetype": "text/x-python",
   "name": "python",
   "nbconvert_exporter": "python",
   "pygments_lexer": "ipython3",
   "version": "3.7.4"
  }
 },
 "nbformat": 4,
 "nbformat_minor": 4
}
